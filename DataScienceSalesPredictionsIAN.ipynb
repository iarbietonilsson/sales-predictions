{
  "nbformat": 4,
  "nbformat_minor": 0,
  "metadata": {
    "colab": {
      "provenance": [],
      "authorship_tag": "ABX9TyNMLT5hK8c/aGUWpeCdfyw3",
      "include_colab_link": true
    },
    "kernelspec": {
      "name": "python3",
      "display_name": "Python 3"
    },
    "language_info": {
      "name": "python"
    }
  },
  "cells": [
    {
      "cell_type": "markdown",
      "metadata": {
        "id": "view-in-github",
        "colab_type": "text"
      },
      "source": [
        "<a href=\"https://colab.research.google.com/github/iarbietonilsson/sales-predictions/blob/main/DataScienceSalesPredictionsIAN.ipynb\" target=\"_parent\"><img src=\"https://colab.research.google.com/assets/colab-badge.svg\" alt=\"Open In Colab\"/></a>"
      ]
    },
    {
      "cell_type": "markdown",
      "source": [
        "# Data Science Sale Predictions\n",
        "Ingrid Arbieto Nelson\n",
        "\n",
        "\n"
      ],
      "metadata": {
        "id": "FwQwZzIRsvjy"
      }
    },
    {
      "cell_type": "code",
      "source": [],
      "metadata": {
        "id": "PkjOq3YKOa_A"
      },
      "execution_count": null,
      "outputs": []
    },
    {
      "cell_type": "markdown",
      "source": [
        "## Loading Data\n",
        "\n"
      ],
      "metadata": {
        "id": "2g_NC6NDOqMX"
      }
    },
    {
      "cell_type": "code",
      "source": [],
      "metadata": {
        "id": "UZyUKdgSO3tt"
      },
      "execution_count": null,
      "outputs": []
    },
    {
      "cell_type": "markdown",
      "source": [
        "## Data Cleaning"
      ],
      "metadata": {
        "id": "QQyhxBHpO6xj"
      }
    },
    {
      "cell_type": "code",
      "source": [],
      "metadata": {
        "id": "LuM5P2XcPJKq"
      },
      "execution_count": null,
      "outputs": []
    },
    {
      "cell_type": "markdown",
      "source": [
        "## Exploratory Visuals"
      ],
      "metadata": {
        "id": "ZkWD6DkgPKAi"
      }
    },
    {
      "cell_type": "code",
      "source": [],
      "metadata": {
        "id": "ldAuo2CEPVeD"
      },
      "execution_count": null,
      "outputs": []
    },
    {
      "cell_type": "markdown",
      "source": [
        "## Explanatory Visuals"
      ],
      "metadata": {
        "id": "KGSdVMkaPWFC"
      }
    },
    {
      "cell_type": "code",
      "source": [],
      "metadata": {
        "id": "OjwIIFlwPb31"
      },
      "execution_count": null,
      "outputs": []
    }
  ]
}