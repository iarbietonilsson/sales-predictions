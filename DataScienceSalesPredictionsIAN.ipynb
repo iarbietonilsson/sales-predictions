{
  "nbformat": 4,
  "nbformat_minor": 0,
  "metadata": {
    "colab": {
      "provenance": [],
      "authorship_tag": "ABX9TyPxwPNzBvenk/+rS/VdIrdc",
      "include_colab_link": true
    },
    "kernelspec": {
      "name": "python3",
      "display_name": "Python 3"
    },
    "language_info": {
      "name": "python"
    }
  },
  "cells": [
    {
      "cell_type": "markdown",
      "metadata": {
        "id": "view-in-github",
        "colab_type": "text"
      },
      "source": [
        "<a href=\"https://colab.research.google.com/github/iarbietonilsson/sales-predictions/blob/main/DataScienceSalesPredictionsIAN.ipynb\" target=\"_parent\"><img src=\"https://colab.research.google.com/assets/colab-badge.svg\" alt=\"Open In Colab\"/></a>"
      ]
    },
    {
      "cell_type": "markdown",
      "source": [
        "# Data Science Sale Predictions\n",
        "Ingrid Arbieto Nelson\n",
        "\n",
        "\n"
      ],
      "metadata": {
        "id": "FwQwZzIRsvjy"
      }
    },
    {
      "cell_type": "markdown",
      "source": [
        "# Project 1 - Parts 1 & 2\n",
        "\n",
        "## Part 1\n",
        "\n",
        "This is an overview of the steps you will need to complete for part one of the project. There are more detailed instructions for each section following the overview.\n",
        "\n",
        "1) Create a GitHub Account\n",
        "\n",
        "2) Set up a GitHub repository that will house your first portfolio project.\n",
        "\n",
        "3) Add Markdown cells with your name and section headers to the notebook.\n",
        "\n",
        "4) Add the Google Colab Notebook to your GitHub repository.\n",
        "\n",
        "5) Submit the link to your GitHub repo!\n",
        "***\n",
        "## Part 2\n",
        "\n",
        "We will continue to work off of the GitHub repository you created last week for your first portfolio project. The goal of your portfolio projects are to have items to show potential employers that demonstrate your data science skills and competencies.\n",
        "\n",
        "The first project will be a sales prediction for food items sold at various stores. The goal of this is to help the retailer understand the properties of products and outlets that play crucial roles in increasing sales.\n",
        "\n",
        "For Part 2, your task is to use Pandas to load in the data and start exploring and cleaning it.  As data scientists, about 80% of our time is spent on data preparation - so this is a very important step!\n",
        "\n",
        "*   Download the data using the link on the Learning Platform.\n",
        "    *   (Note: [Original data source](https://datahack.analyticsvidhya.com/contest/practice-problem-big-mart-sales-iii/)).\n",
        "*   Insert code below the heading \"Loading Data\"\n",
        "    *   Use Pandas to read the sales prediction data set into Google Colab.\n",
        "    *   Use df.info() and df.head() methods to preview the first rows of your data and a summary of your DataFrame's columns.\n",
        "*   Insert code below the heading \"Data Cleaning\"\n",
        "    *   Explore the data - what do you need to do to clean this data? Clean it!\n",
        "    *   Be sure to address each of the following tasks:\n",
        "\n",
        "        1) How many rows and columns?\n",
        "\n",
        "        2) What are the datatypes of each variable?\n",
        "\n",
        "        3) Are there duplicates? If so, drop any duplicates.\n",
        "\n",
        "        4) Identify missing values.\n",
        "\n",
        "        5) Decide on how to address the missing values and do it! (This requires your judgement, so explain your choice).\n",
        "\n",
        "        6) Confirm that there are no missing values after addressing them.\n",
        "\n",
        "        7) Find and fix any inconsistent categories of data (example: fix cat, Cat, and cats so that they are consistent).\n",
        "\n",
        "        8) For any numerical columns, obtain the summary statistics of each (min, max, mean).\n",
        "\n",
        "    Here are a few resources to help you consider more advanced ways to deal with missing values in your dataset (check out the optional additional Pandas resources at the end of this Chapter for more resources on this):\n",
        "    *   [Missing Data, its types, and statistical methods to deal with it.](https://medium.com/@raoufkeskes/missing-data-its-types-and-statistical-methods-to-deal-with-it-5cf8b71a443f#id_token=eyJhbGciOiJSUzI1NiIsImtpZCI6IjAyYTYxZWZkMmE0NGZjMjE1MTQ4ZDRlZmZjMzRkNmE3YjJhYzI2ZjAiLCJ0eXAiOiJKV1QifQ.eyJpc3MiOiJodHRwczovL2FjY291bnRzLmdvb2dsZS5jb20iLCJuYmYiOjE2NzE3OTQwNDcsImF1ZCI6IjIxNjI5NjAzNTgzNC1rMWs2cWUwNjBzMnRwMmEyamFtNGxqZGNtczAwc3R0Zy5hcHBzLmdvb2dsZXVzZXJjb250ZW50LmNvbSIsInN1YiI6IjExMjk4NTQyNDkxMTAxNjkzODM1NCIsImVtYWlsIjoic3dlZXRzYW1iYWdpcmxAZ21haWwuY29tIiwiZW1haWxfdmVyaWZpZWQiOnRydWUsImF6cCI6IjIxNjI5NjAzNTgzNC1rMWs2cWUwNjBzMnRwMmEyamFtNGxqZGNtczAwc3R0Zy5hcHBzLmdvb2dsZXVzZXJjb250ZW50LmNvbSIsIm5hbWUiOiJJbmdyaWQgTmVsc29uIiwicGljdHVyZSI6Imh0dHBzOi8vbGgzLmdvb2dsZXVzZXJjb250ZW50LmNvbS9hL0FFZEZUcDY3WnpyNEROZlQ3cHhjZ2xrZnZXUWs3SWx3MGszSDk2SG9WYmhqdEE9czk2LWMiLCJnaXZlbl9uYW1lIjoiSW5ncmlkIiwiZmFtaWx5X25hbWUiOiJOZWxzb24iLCJpYXQiOjE2NzE3OTQzNDcsImV4cCI6MTY3MTc5Nzk0NywianRpIjoiNTAwYWZhN2ZiN2M3MGUwMzBjNzJiMzQ2ZWNhZDFkZmEyOTJiN2ZlMiJ9.kZLlrhvJp0E2Rc1Kz_c4UjZ7De2E9D81MNlbouBxBJxglhhzU3ATfGO9ThjngyRmT6pDjF0JcYqmn8U-zEOEuy2PXWCGKPt056e0UYgvTAHqXR7bjbYNKWOV256ntYv2utaurDRT3d09SFO12Gh2Ou9pHvAvp-3YtrMHwQYdQFHuaedKfKSQDEad_38SbnFUIGYnMRfAJGBQpNEwz_11fMK2KnaKPMdFm9MVkWLh776r_t1GEvY-FYEvCcOvf_yQo0mzNdXA6HtPO_tNVVDj3BYCyvMKhHNdJXWUo9Y9EaQuGhF3DwvIVUP9dRecRIJoWpLclb8xoypfNIh6ID_iWQ)\n",
        "    *   [6 Different Ways to Compensate for Missing Values In a Dataset.](https://https://towardsdatascience.com/6-different-ways-to-compensate-for-missing-values-data-imputation-with-examples-6022d9ca0779)\n",
        "    *   [Dealing with missing data: Key assumptions and methods for applied analysis.](https://chrome-extension://efaidnbmnnnibpcajpcglclefindmkaj/https://www.bu.edu/sph/files/2014/05/Marina-tech-report.pdf)\n",
        "    *   Feel free to use any other resources or techniques you find online that you think are appropriate/useful.\n",
        "\n",
        "\n"
      ],
      "metadata": {
        "id": "lWjIWPiNolRe"
      }
    },
    {
      "cell_type": "markdown",
      "source": [
        "##Data Dictionary\n",
        "\n",
        "![image](https://drive.google.com/uc?id=1kdsKuuQa6PA5zx6PcI_J7amlONsbFaXj)"
      ],
      "metadata": {
        "id": "5sDnIF5DpqQL"
      }
    },
    {
      "cell_type": "code",
      "source": [
        "from google.colab import drive\n",
        "drive.mount('/content/drive')"
      ],
      "metadata": {
        "id": "UZyUKdgSO3tt",
        "colab": {
          "base_uri": "https://localhost:8080/"
        },
        "outputId": "5ec78313-be08-449a-d2d9-7ea41714f19f"
      },
      "execution_count": 70,
      "outputs": [
        {
          "output_type": "stream",
          "name": "stdout",
          "text": [
            "Drive already mounted at /content/drive; to attempt to forcibly remount, call drive.mount(\"/content/drive\", force_remount=True).\n"
          ]
        }
      ]
    },
    {
      "cell_type": "markdown",
      "source": [
        "## Import Libraries"
      ],
      "metadata": {
        "id": "twAUK5dm5UXl"
      }
    },
    {
      "cell_type": "code",
      "source": [
        "# import libraries\n",
        "import pandas as pd\n",
        "import numpy as np"
      ],
      "metadata": {
        "id": "duRcALKslmzw"
      },
      "execution_count": 71,
      "outputs": []
    },
    {
      "cell_type": "markdown",
      "source": [
        "## Loading Data"
      ],
      "metadata": {
        "id": "5mUKqpvf5dNL"
      }
    },
    {
      "cell_type": "code",
      "source": [
        "# load data\n",
        "url = 'https://docs.google.com/spreadsheets/d/e/2PACX-1vSZM_GiLJAcSH0K70Pp1eG_J_-wht9ScYsPsaJ9IstEA2OuEYpCi4_lk6KBLc99MIA0V97E-Hs-Z84y/pub?gid=415579051&single=true&output=csv'\n",
        "df = pd.read_csv(url)"
      ],
      "metadata": {
        "id": "QQRTHmW3lta4"
      },
      "execution_count": 72,
      "outputs": []
    },
    {
      "cell_type": "code",
      "source": [
        "# view header - 1st 5 rows\n",
        "df.head()"
      ],
      "metadata": {
        "colab": {
          "base_uri": "https://localhost:8080/",
          "height": 337
        },
        "id": "_3BPHe6t5oOY",
        "outputId": "ccf382f8-bf73-42e7-c4a1-e07da8db1bc3"
      },
      "execution_count": 73,
      "outputs": [
        {
          "output_type": "execute_result",
          "data": {
            "text/plain": [
              "  Item_Identifier  Item_Weight Item_Fat_Content  Item_Visibility  \\\n",
              "0           FDA15         9.30          Low Fat         0.016047   \n",
              "1           DRC01         5.92          Regular         0.019278   \n",
              "2           FDN15        17.50          Low Fat         0.016760   \n",
              "3           FDX07        19.20          Regular         0.000000   \n",
              "4           NCD19         8.93          Low Fat         0.000000   \n",
              "\n",
              "               Item_Type  Item_MRP Outlet_Identifier  \\\n",
              "0                  Dairy  249.8092            OUT049   \n",
              "1            Soft Drinks   48.2692            OUT018   \n",
              "2                   Meat  141.6180            OUT049   \n",
              "3  Fruits and Vegetables  182.0950            OUT010   \n",
              "4              Household   53.8614            OUT013   \n",
              "\n",
              "   Outlet_Establishment_Year Outlet_Size Outlet_Location_Type  \\\n",
              "0                       1999      Medium               Tier 1   \n",
              "1                       2009      Medium               Tier 3   \n",
              "2                       1999      Medium               Tier 1   \n",
              "3                       1998         NaN               Tier 3   \n",
              "4                       1987        High               Tier 3   \n",
              "\n",
              "         Outlet_Type  Item_Outlet_Sales  \n",
              "0  Supermarket Type1          3735.1380  \n",
              "1  Supermarket Type2           443.4228  \n",
              "2  Supermarket Type1          2097.2700  \n",
              "3      Grocery Store           732.3800  \n",
              "4  Supermarket Type1           994.7052  "
            ],
            "text/html": [
              "\n",
              "  <div id=\"df-1505c4ba-36af-442f-9c74-0ff92c844cec\">\n",
              "    <div class=\"colab-df-container\">\n",
              "      <div>\n",
              "<style scoped>\n",
              "    .dataframe tbody tr th:only-of-type {\n",
              "        vertical-align: middle;\n",
              "    }\n",
              "\n",
              "    .dataframe tbody tr th {\n",
              "        vertical-align: top;\n",
              "    }\n",
              "\n",
              "    .dataframe thead th {\n",
              "        text-align: right;\n",
              "    }\n",
              "</style>\n",
              "<table border=\"1\" class=\"dataframe\">\n",
              "  <thead>\n",
              "    <tr style=\"text-align: right;\">\n",
              "      <th></th>\n",
              "      <th>Item_Identifier</th>\n",
              "      <th>Item_Weight</th>\n",
              "      <th>Item_Fat_Content</th>\n",
              "      <th>Item_Visibility</th>\n",
              "      <th>Item_Type</th>\n",
              "      <th>Item_MRP</th>\n",
              "      <th>Outlet_Identifier</th>\n",
              "      <th>Outlet_Establishment_Year</th>\n",
              "      <th>Outlet_Size</th>\n",
              "      <th>Outlet_Location_Type</th>\n",
              "      <th>Outlet_Type</th>\n",
              "      <th>Item_Outlet_Sales</th>\n",
              "    </tr>\n",
              "  </thead>\n",
              "  <tbody>\n",
              "    <tr>\n",
              "      <th>0</th>\n",
              "      <td>FDA15</td>\n",
              "      <td>9.30</td>\n",
              "      <td>Low Fat</td>\n",
              "      <td>0.016047</td>\n",
              "      <td>Dairy</td>\n",
              "      <td>249.8092</td>\n",
              "      <td>OUT049</td>\n",
              "      <td>1999</td>\n",
              "      <td>Medium</td>\n",
              "      <td>Tier 1</td>\n",
              "      <td>Supermarket Type1</td>\n",
              "      <td>3735.1380</td>\n",
              "    </tr>\n",
              "    <tr>\n",
              "      <th>1</th>\n",
              "      <td>DRC01</td>\n",
              "      <td>5.92</td>\n",
              "      <td>Regular</td>\n",
              "      <td>0.019278</td>\n",
              "      <td>Soft Drinks</td>\n",
              "      <td>48.2692</td>\n",
              "      <td>OUT018</td>\n",
              "      <td>2009</td>\n",
              "      <td>Medium</td>\n",
              "      <td>Tier 3</td>\n",
              "      <td>Supermarket Type2</td>\n",
              "      <td>443.4228</td>\n",
              "    </tr>\n",
              "    <tr>\n",
              "      <th>2</th>\n",
              "      <td>FDN15</td>\n",
              "      <td>17.50</td>\n",
              "      <td>Low Fat</td>\n",
              "      <td>0.016760</td>\n",
              "      <td>Meat</td>\n",
              "      <td>141.6180</td>\n",
              "      <td>OUT049</td>\n",
              "      <td>1999</td>\n",
              "      <td>Medium</td>\n",
              "      <td>Tier 1</td>\n",
              "      <td>Supermarket Type1</td>\n",
              "      <td>2097.2700</td>\n",
              "    </tr>\n",
              "    <tr>\n",
              "      <th>3</th>\n",
              "      <td>FDX07</td>\n",
              "      <td>19.20</td>\n",
              "      <td>Regular</td>\n",
              "      <td>0.000000</td>\n",
              "      <td>Fruits and Vegetables</td>\n",
              "      <td>182.0950</td>\n",
              "      <td>OUT010</td>\n",
              "      <td>1998</td>\n",
              "      <td>NaN</td>\n",
              "      <td>Tier 3</td>\n",
              "      <td>Grocery Store</td>\n",
              "      <td>732.3800</td>\n",
              "    </tr>\n",
              "    <tr>\n",
              "      <th>4</th>\n",
              "      <td>NCD19</td>\n",
              "      <td>8.93</td>\n",
              "      <td>Low Fat</td>\n",
              "      <td>0.000000</td>\n",
              "      <td>Household</td>\n",
              "      <td>53.8614</td>\n",
              "      <td>OUT013</td>\n",
              "      <td>1987</td>\n",
              "      <td>High</td>\n",
              "      <td>Tier 3</td>\n",
              "      <td>Supermarket Type1</td>\n",
              "      <td>994.7052</td>\n",
              "    </tr>\n",
              "  </tbody>\n",
              "</table>\n",
              "</div>\n",
              "      <button class=\"colab-df-convert\" onclick=\"convertToInteractive('df-1505c4ba-36af-442f-9c74-0ff92c844cec')\"\n",
              "              title=\"Convert this dataframe to an interactive table.\"\n",
              "              style=\"display:none;\">\n",
              "        \n",
              "  <svg xmlns=\"http://www.w3.org/2000/svg\" height=\"24px\"viewBox=\"0 0 24 24\"\n",
              "       width=\"24px\">\n",
              "    <path d=\"M0 0h24v24H0V0z\" fill=\"none\"/>\n",
              "    <path d=\"M18.56 5.44l.94 2.06.94-2.06 2.06-.94-2.06-.94-.94-2.06-.94 2.06-2.06.94zm-11 1L8.5 8.5l.94-2.06 2.06-.94-2.06-.94L8.5 2.5l-.94 2.06-2.06.94zm10 10l.94 2.06.94-2.06 2.06-.94-2.06-.94-.94-2.06-.94 2.06-2.06.94z\"/><path d=\"M17.41 7.96l-1.37-1.37c-.4-.4-.92-.59-1.43-.59-.52 0-1.04.2-1.43.59L10.3 9.45l-7.72 7.72c-.78.78-.78 2.05 0 2.83L4 21.41c.39.39.9.59 1.41.59.51 0 1.02-.2 1.41-.59l7.78-7.78 2.81-2.81c.8-.78.8-2.07 0-2.86zM5.41 20L4 18.59l7.72-7.72 1.47 1.35L5.41 20z\"/>\n",
              "  </svg>\n",
              "      </button>\n",
              "      \n",
              "  <style>\n",
              "    .colab-df-container {\n",
              "      display:flex;\n",
              "      flex-wrap:wrap;\n",
              "      gap: 12px;\n",
              "    }\n",
              "\n",
              "    .colab-df-convert {\n",
              "      background-color: #E8F0FE;\n",
              "      border: none;\n",
              "      border-radius: 50%;\n",
              "      cursor: pointer;\n",
              "      display: none;\n",
              "      fill: #1967D2;\n",
              "      height: 32px;\n",
              "      padding: 0 0 0 0;\n",
              "      width: 32px;\n",
              "    }\n",
              "\n",
              "    .colab-df-convert:hover {\n",
              "      background-color: #E2EBFA;\n",
              "      box-shadow: 0px 1px 2px rgba(60, 64, 67, 0.3), 0px 1px 3px 1px rgba(60, 64, 67, 0.15);\n",
              "      fill: #174EA6;\n",
              "    }\n",
              "\n",
              "    [theme=dark] .colab-df-convert {\n",
              "      background-color: #3B4455;\n",
              "      fill: #D2E3FC;\n",
              "    }\n",
              "\n",
              "    [theme=dark] .colab-df-convert:hover {\n",
              "      background-color: #434B5C;\n",
              "      box-shadow: 0px 1px 3px 1px rgba(0, 0, 0, 0.15);\n",
              "      filter: drop-shadow(0px 1px 2px rgba(0, 0, 0, 0.3));\n",
              "      fill: #FFFFFF;\n",
              "    }\n",
              "  </style>\n",
              "\n",
              "      <script>\n",
              "        const buttonEl =\n",
              "          document.querySelector('#df-1505c4ba-36af-442f-9c74-0ff92c844cec button.colab-df-convert');\n",
              "        buttonEl.style.display =\n",
              "          google.colab.kernel.accessAllowed ? 'block' : 'none';\n",
              "\n",
              "        async function convertToInteractive(key) {\n",
              "          const element = document.querySelector('#df-1505c4ba-36af-442f-9c74-0ff92c844cec');\n",
              "          const dataTable =\n",
              "            await google.colab.kernel.invokeFunction('convertToInteractive',\n",
              "                                                     [key], {});\n",
              "          if (!dataTable) return;\n",
              "\n",
              "          const docLinkHtml = 'Like what you see? Visit the ' +\n",
              "            '<a target=\"_blank\" href=https://colab.research.google.com/notebooks/data_table.ipynb>data table notebook</a>'\n",
              "            + ' to learn more about interactive tables.';\n",
              "          element.innerHTML = '';\n",
              "          dataTable['output_type'] = 'display_data';\n",
              "          await google.colab.output.renderOutput(dataTable, element);\n",
              "          const docLink = document.createElement('div');\n",
              "          docLink.innerHTML = docLinkHtml;\n",
              "          element.appendChild(docLink);\n",
              "        }\n",
              "      </script>\n",
              "    </div>\n",
              "  </div>\n",
              "  "
            ]
          },
          "metadata": {},
          "execution_count": 73
        }
      ]
    },
    {
      "cell_type": "code",
      "source": [
        "# view dataframe info - datatypes\n",
        "df.info()"
      ],
      "metadata": {
        "colab": {
          "base_uri": "https://localhost:8080/"
        },
        "id": "r9pJJE8J55T1",
        "outputId": "74146100-58ca-41fd-be18-b0986d10a518"
      },
      "execution_count": 74,
      "outputs": [
        {
          "output_type": "stream",
          "name": "stdout",
          "text": [
            "<class 'pandas.core.frame.DataFrame'>\n",
            "RangeIndex: 8523 entries, 0 to 8522\n",
            "Data columns (total 12 columns):\n",
            " #   Column                     Non-Null Count  Dtype  \n",
            "---  ------                     --------------  -----  \n",
            " 0   Item_Identifier            8523 non-null   object \n",
            " 1   Item_Weight                7060 non-null   float64\n",
            " 2   Item_Fat_Content           8523 non-null   object \n",
            " 3   Item_Visibility            8523 non-null   float64\n",
            " 4   Item_Type                  8523 non-null   object \n",
            " 5   Item_MRP                   8523 non-null   float64\n",
            " 6   Outlet_Identifier          8523 non-null   object \n",
            " 7   Outlet_Establishment_Year  8523 non-null   int64  \n",
            " 8   Outlet_Size                6113 non-null   object \n",
            " 9   Outlet_Location_Type       8523 non-null   object \n",
            " 10  Outlet_Type                8523 non-null   object \n",
            " 11  Item_Outlet_Sales          8523 non-null   float64\n",
            "dtypes: float64(4), int64(1), object(7)\n",
            "memory usage: 799.2+ KB\n"
          ]
        }
      ]
    },
    {
      "cell_type": "markdown",
      "source": [
        "## Data Cleaning"
      ],
      "metadata": {
        "id": "QQyhxBHpO6xj"
      }
    },
    {
      "cell_type": "markdown",
      "source": [
        "### 1 )  Size of Dataframe\n",
        "\n",
        "Use df.shape() to determine how many rows and columns in the dataframe.\n",
        "*   There are 8,523 rows and 12 columns."
      ],
      "metadata": {
        "id": "IGfv-U3I6ee8"
      }
    },
    {
      "cell_type": "code",
      "source": [
        "df.shape"
      ],
      "metadata": {
        "id": "LuM5P2XcPJKq",
        "colab": {
          "base_uri": "https://localhost:8080/"
        },
        "outputId": "8ee77c1f-d6ce-444b-fd07-fb0d8f8b7d78"
      },
      "execution_count": 75,
      "outputs": [
        {
          "output_type": "execute_result",
          "data": {
            "text/plain": [
              "(8523, 12)"
            ]
          },
          "metadata": {},
          "execution_count": 75
        }
      ]
    },
    {
      "cell_type": "markdown",
      "source": [
        "### 2 )  Data Types\n",
        "\n",
        "Check data types for each variable."
      ],
      "metadata": {
        "id": "n5LbEzvM7cYI"
      }
    },
    {
      "cell_type": "code",
      "source": [
        "df.dtypes"
      ],
      "metadata": {
        "colab": {
          "base_uri": "https://localhost:8080/"
        },
        "id": "IxkF34QH7tlD",
        "outputId": "94ef9073-f133-47da-910d-8e8dbe8da0ca"
      },
      "execution_count": 76,
      "outputs": [
        {
          "output_type": "execute_result",
          "data": {
            "text/plain": [
              "Item_Identifier               object\n",
              "Item_Weight                  float64\n",
              "Item_Fat_Content              object\n",
              "Item_Visibility              float64\n",
              "Item_Type                     object\n",
              "Item_MRP                     float64\n",
              "Outlet_Identifier             object\n",
              "Outlet_Establishment_Year      int64\n",
              "Outlet_Size                   object\n",
              "Outlet_Location_Type          object\n",
              "Outlet_Type                   object\n",
              "Item_Outlet_Sales            float64\n",
              "dtype: object"
            ]
          },
          "metadata": {},
          "execution_count": 76
        }
      ]
    },
    {
      "cell_type": "markdown",
      "source": [
        "### 3 )  Duplicates / Drop Irrelevant Data\n",
        "\n",
        "Drop any duplicates, i.e. data entries that are exactly the same across all columns.\n",
        "*   There are no duplicate data entries."
      ],
      "metadata": {
        "id": "xaSTu8oP7zjx"
      }
    },
    {
      "cell_type": "code",
      "source": [
        "# Count any duplicate entries\n",
        "df.duplicated().sum()"
      ],
      "metadata": {
        "colab": {
          "base_uri": "https://localhost:8080/"
        },
        "id": "D1uunlm48Kiu",
        "outputId": "d0de7aec-6162-4428-a057-4581a2d1fd12"
      },
      "execution_count": 77,
      "outputs": [
        {
          "output_type": "execute_result",
          "data": {
            "text/plain": [
              "0"
            ]
          },
          "metadata": {},
          "execution_count": 77
        }
      ]
    },
    {
      "cell_type": "markdown",
      "source": [
        "Drop irrevalent data, such as\n",
        "*   values that are unique in every row\n",
        "*   values that are identical across every row\n",
        "*   an Unnamed column (duplicate index)\n",
        "*   those that are irrevalent to the task at head\n"
      ],
      "metadata": {
        "id": "zcttGihgAYTB"
      }
    },
    {
      "cell_type": "markdown",
      "source": [
        "#### Drop Values that are unique in every row\n",
        "*   Item_Identifiers are unique item IDs, so good to eliminate, as unique in every row.\n",
        "*   Outlet Identifiers are also unique, so will delete as well."
      ],
      "metadata": {
        "id": "-CJbJg_rGYwq"
      }
    },
    {
      "cell_type": "code",
      "source": [
        "# See how many different values for Item_Identifier\n",
        "df['Item_Identifier'].value_counts()"
      ],
      "metadata": {
        "colab": {
          "base_uri": "https://localhost:8080/"
        },
        "id": "ujmoX_shB0hB",
        "outputId": "84b0f948-e515-4363-9199-994c46b0f32f"
      },
      "execution_count": 78,
      "outputs": [
        {
          "output_type": "execute_result",
          "data": {
            "text/plain": [
              "FDW13    10\n",
              "FDG33    10\n",
              "NCY18     9\n",
              "FDD38     9\n",
              "DRE49     9\n",
              "         ..\n",
              "FDY43     1\n",
              "FDQ60     1\n",
              "FDO33     1\n",
              "DRF48     1\n",
              "FDC23     1\n",
              "Name: Item_Identifier, Length: 1559, dtype: int64"
            ]
          },
          "metadata": {},
          "execution_count": 78
        }
      ]
    },
    {
      "cell_type": "code",
      "source": [
        "# See how many different values for Outlet_Identifier\n",
        "df['Outlet_Identifier'].value_counts()"
      ],
      "metadata": {
        "colab": {
          "base_uri": "https://localhost:8080/"
        },
        "id": "j2F588i3FPcT",
        "outputId": "6068e530-59ed-4902-9a32-829a8047828d"
      },
      "execution_count": 79,
      "outputs": [
        {
          "output_type": "execute_result",
          "data": {
            "text/plain": [
              "OUT027    935\n",
              "OUT013    932\n",
              "OUT049    930\n",
              "OUT046    930\n",
              "OUT035    930\n",
              "OUT045    929\n",
              "OUT018    928\n",
              "OUT017    926\n",
              "OUT010    555\n",
              "OUT019    528\n",
              "Name: Outlet_Identifier, dtype: int64"
            ]
          },
          "metadata": {},
          "execution_count": 79
        }
      ]
    },
    {
      "cell_type": "markdown",
      "source": [
        "#### Drop identical values\n",
        "*   Outlet Type has nearly identical categories. There is not much of a  difference between a grocery store versus a supermarket, so seems good to eliminate."
      ],
      "metadata": {
        "id": "BRZ86HH7INPg"
      }
    },
    {
      "cell_type": "code",
      "source": [
        "df['Outlet_Type'].value_counts()"
      ],
      "metadata": {
        "colab": {
          "base_uri": "https://localhost:8080/"
        },
        "id": "rV63YYMBJYAy",
        "outputId": "ae359adf-ff69-42bc-bea9-3babcf4050e6"
      },
      "execution_count": 80,
      "outputs": [
        {
          "output_type": "execute_result",
          "data": {
            "text/plain": [
              "Supermarket Type1    5577\n",
              "Grocery Store        1083\n",
              "Supermarket Type3     935\n",
              "Supermarket Type2     928\n",
              "Name: Outlet_Type, dtype: int64"
            ]
          },
          "metadata": {},
          "execution_count": 80
        }
      ]
    },
    {
      "cell_type": "markdown",
      "source": [
        "#### Drop irrevalent data\n",
        "*   Outlet_Establishment_Year seems pretty irrelevant to sales predictions, so eliminating that."
      ],
      "metadata": {
        "id": "UI2j6yXlJgQA"
      }
    },
    {
      "cell_type": "markdown",
      "source": [
        "#### Drop Irrevalent Columns"
      ],
      "metadata": {
        "id": "XJ965MtRMuDr"
      }
    },
    {
      "cell_type": "code",
      "source": [
        "df.drop(columns = ['Item_Identifier', 'Outlet_Identifier', 'Outlet_Type', 'Outlet_Establishment_Year'], inplace = True)"
      ],
      "metadata": {
        "id": "5V62tNcvLJjB"
      },
      "execution_count": 81,
      "outputs": []
    },
    {
      "cell_type": "code",
      "source": [
        "# Check data after eliminating columns\n",
        "df.info()"
      ],
      "metadata": {
        "colab": {
          "base_uri": "https://localhost:8080/"
        },
        "id": "gc7vkhssNDCC",
        "outputId": "2c26ff43-3ec7-4986-e06e-28d5c3b98a40"
      },
      "execution_count": 82,
      "outputs": [
        {
          "output_type": "stream",
          "name": "stdout",
          "text": [
            "<class 'pandas.core.frame.DataFrame'>\n",
            "RangeIndex: 8523 entries, 0 to 8522\n",
            "Data columns (total 8 columns):\n",
            " #   Column                Non-Null Count  Dtype  \n",
            "---  ------                --------------  -----  \n",
            " 0   Item_Weight           7060 non-null   float64\n",
            " 1   Item_Fat_Content      8523 non-null   object \n",
            " 2   Item_Visibility       8523 non-null   float64\n",
            " 3   Item_Type             8523 non-null   object \n",
            " 4   Item_MRP              8523 non-null   float64\n",
            " 5   Outlet_Size           6113 non-null   object \n",
            " 6   Outlet_Location_Type  8523 non-null   object \n",
            " 7   Item_Outlet_Sales     8523 non-null   float64\n",
            "dtypes: float64(4), object(4)\n",
            "memory usage: 532.8+ KB\n"
          ]
        }
      ]
    },
    {
      "cell_type": "markdown",
      "source": [
        "#### Variables Remaining\n",
        "*   Item Weight - I chose to keep item weight, as heavier items may cost more. It may not be, but I'm not a SME on food sales.\n",
        "*   Item Fat Content - It may be interesting to compare diet food to yummy fat-full food.\n",
        "*   Item Visibility - If an item is highly visable, it seems more likely that the customer would buy it.\n",
        "*   Item Type - Which food item types sell more!\n",
        "*   Item_MRP - Sales price would definitely be relavant to sales.\n",
        "*   Outlet Size - How big an outlet is seems to relate to how much outlet could sell.\n",
        "*   Outlet Location - Location! Location! Location! - big part of sales\n",
        "*   Item_Outlet_Sales - Primary Sales datapoint!"
      ],
      "metadata": {
        "id": "3TzBtgs2NT63"
      }
    },
    {
      "cell_type": "markdown",
      "source": [
        "## 4 )  Identify missing values.\n",
        "*   Item weight is missing for 1463 values (17.17%)\n",
        "*   Outlet size is missing for for 2410 values (28.28%)\n",
        "\n",
        "\n"
      ],
      "metadata": {
        "id": "mNvYT-xZPOZg"
      }
    },
    {
      "cell_type": "code",
      "source": [
        "# Tells number of nas in each column\n",
        "df.info()"
      ],
      "metadata": {
        "colab": {
          "base_uri": "https://localhost:8080/"
        },
        "id": "n7mG8kpPPAkn",
        "outputId": "89e7f8bc-5573-4665-e100-ecb875d33e75"
      },
      "execution_count": 83,
      "outputs": [
        {
          "output_type": "stream",
          "name": "stdout",
          "text": [
            "<class 'pandas.core.frame.DataFrame'>\n",
            "RangeIndex: 8523 entries, 0 to 8522\n",
            "Data columns (total 8 columns):\n",
            " #   Column                Non-Null Count  Dtype  \n",
            "---  ------                --------------  -----  \n",
            " 0   Item_Weight           7060 non-null   float64\n",
            " 1   Item_Fat_Content      8523 non-null   object \n",
            " 2   Item_Visibility       8523 non-null   float64\n",
            " 3   Item_Type             8523 non-null   object \n",
            " 4   Item_MRP              8523 non-null   float64\n",
            " 5   Outlet_Size           6113 non-null   object \n",
            " 6   Outlet_Location_Type  8523 non-null   object \n",
            " 7   Item_Outlet_Sales     8523 non-null   float64\n",
            "dtypes: float64(4), object(4)\n",
            "memory usage: 532.8+ KB\n"
          ]
        }
      ]
    },
    {
      "cell_type": "code",
      "source": [
        "# Sums number of missing values per column\n",
        "df.isna().sum()"
      ],
      "metadata": {
        "colab": {
          "base_uri": "https://localhost:8080/"
        },
        "id": "tx3s8NJdP0Op",
        "outputId": "103df24b-74fd-4a8c-fb42-d74bef0a8e51"
      },
      "execution_count": 84,
      "outputs": [
        {
          "output_type": "execute_result",
          "data": {
            "text/plain": [
              "Item_Weight             1463\n",
              "Item_Fat_Content           0\n",
              "Item_Visibility            0\n",
              "Item_Type                  0\n",
              "Item_MRP                   0\n",
              "Outlet_Size             2410\n",
              "Outlet_Location_Type       0\n",
              "Item_Outlet_Sales          0\n",
              "dtype: int64"
            ]
          },
          "metadata": {},
          "execution_count": 84
        }
      ]
    },
    {
      "cell_type": "code",
      "source": [
        "# show percentage of na values / total count of item\n",
        "df.isna().sum() / len(df) * 100"
      ],
      "metadata": {
        "colab": {
          "base_uri": "https://localhost:8080/"
        },
        "id": "OKLmhE_kTpj-",
        "outputId": "99e42077-9aec-4bc8-b482-7d136b6315da"
      },
      "execution_count": 85,
      "outputs": [
        {
          "output_type": "execute_result",
          "data": {
            "text/plain": [
              "Item_Weight             17.165317\n",
              "Item_Fat_Content         0.000000\n",
              "Item_Visibility          0.000000\n",
              "Item_Type                0.000000\n",
              "Item_MRP                 0.000000\n",
              "Outlet_Size             28.276428\n",
              "Outlet_Location_Type     0.000000\n",
              "Item_Outlet_Sales        0.000000\n",
              "dtype: float64"
            ]
          },
          "metadata": {},
          "execution_count": 85
        }
      ]
    },
    {
      "cell_type": "markdown",
      "source": [
        "## 5 ) How to Address Missing Values"
      ],
      "metadata": {
        "id": "VU_ymCG1QPv6"
      }
    },
    {
      "cell_type": "markdown",
      "source": [
        "For missing values, I could\n",
        "1.   **Drop the column**\n",
        "     *  ( _good rule of thumb < 5%_ )\n",
        "2.   **Impute the missing value**\n",
        "     *  many statitical methods\n",
        "     *  simpler one is to use median (_integers_), mean (_float_), mode (_category_)"
      ],
      "metadata": {
        "id": "7_NLu9gpZ9Am"
      }
    },
    {
      "cell_type": "markdown",
      "source": [
        "### Item Weight\n",
        "\n",
        "*   Item Weight is missing for 17.17% of values, so not minimal number of missing values.\n",
        "*   Chosen method - **Impute the missing value** with mean for _float_ value\n",
        "*   This does introduce errors into the dataset."
      ],
      "metadata": {
        "id": "cl9pdkZvbeb2"
      }
    },
    {
      "cell_type": "code",
      "source": [
        "df['Item_Weight'].fillna(value = df['Item_Weight'].mean(), inplace = True)\n"
      ],
      "metadata": {
        "id": "49P-Z0l7QcDA"
      },
      "execution_count": 86,
      "outputs": []
    },
    {
      "cell_type": "markdown",
      "source": [
        "###Outlet Size\n",
        "*   Outlet Size has 28.28% missing values, not minimal.\n",
        "*   Chosen method - - **Impute the missing value** with mode for _category_ value\n",
        "*   This does introduce errors into the dataset."
      ],
      "metadata": {
        "id": "uJSNkHDrdCvS"
      }
    },
    {
      "cell_type": "code",
      "source": [
        "# Medium is the most common value\n",
        "df['Outlet_Size'].value_counts()"
      ],
      "metadata": {
        "colab": {
          "base_uri": "https://localhost:8080/"
        },
        "id": "Ze8oHQQte6b1",
        "outputId": "dbff8282-cf18-408b-8b1e-74cf30d2f179"
      },
      "execution_count": 87,
      "outputs": [
        {
          "output_type": "execute_result",
          "data": {
            "text/plain": [
              "Medium    2793\n",
              "Small     2388\n",
              "High       932\n",
              "Name: Outlet_Size, dtype: int64"
            ]
          },
          "metadata": {},
          "execution_count": 87
        }
      ]
    },
    {
      "cell_type": "code",
      "source": [
        "# fill in with mode - most common value\n",
        "df['Outlet_Size'].fillna(value = 'Medium', inplace = True)"
      ],
      "metadata": {
        "id": "itK4puX_ggHv"
      },
      "execution_count": 88,
      "outputs": []
    },
    {
      "cell_type": "markdown",
      "source": [
        "## 6 ) Final check for Missing Values\n",
        "\n",
        "Check the info on the dataframe to ensure there are no longer any missing values!!"
      ],
      "metadata": {
        "id": "1zwLIRenhM-E"
      }
    },
    {
      "cell_type": "code",
      "source": [
        "# Check that all values filled in\n",
        "df.info()"
      ],
      "metadata": {
        "colab": {
          "base_uri": "https://localhost:8080/"
        },
        "id": "kgd9ta1DiHLO",
        "outputId": "204d0974-2024-4aca-8a8c-37d48c877326"
      },
      "execution_count": 89,
      "outputs": [
        {
          "output_type": "stream",
          "name": "stdout",
          "text": [
            "<class 'pandas.core.frame.DataFrame'>\n",
            "RangeIndex: 8523 entries, 0 to 8522\n",
            "Data columns (total 8 columns):\n",
            " #   Column                Non-Null Count  Dtype  \n",
            "---  ------                --------------  -----  \n",
            " 0   Item_Weight           8523 non-null   float64\n",
            " 1   Item_Fat_Content      8523 non-null   object \n",
            " 2   Item_Visibility       8523 non-null   float64\n",
            " 3   Item_Type             8523 non-null   object \n",
            " 4   Item_MRP              8523 non-null   float64\n",
            " 5   Outlet_Size           8523 non-null   object \n",
            " 6   Outlet_Location_Type  8523 non-null   object \n",
            " 7   Item_Outlet_Sales     8523 non-null   float64\n",
            "dtypes: float64(4), object(4)\n",
            "memory usage: 532.8+ KB\n"
          ]
        }
      ]
    },
    {
      "cell_type": "markdown",
      "source": [
        "## 7 ) Find and fix any inconsistent categories of data\n",
        "\n",
        "From data info above, floats look consistent:\n",
        "*   Item Weight\n",
        "*   Item Visability\n",
        "*   Item_MRP\n",
        "*   Item_Outlet_Sales\n",
        "\n",
        "Next, check categorical values for inconsistent data.\n",
        "*   Only Item Fat Content has inconsistent values."
      ],
      "metadata": {
        "id": "6bjUJKDjiR5I"
      }
    },
    {
      "cell_type": "code",
      "source": [
        "# values for item fat content\n",
        "df['Item_Fat_Content'].value_counts()"
      ],
      "metadata": {
        "colab": {
          "base_uri": "https://localhost:8080/"
        },
        "id": "JWHw3nBBjhYA",
        "outputId": "4a246a27-823f-4064-d403-47ba30df9379"
      },
      "execution_count": 90,
      "outputs": [
        {
          "output_type": "execute_result",
          "data": {
            "text/plain": [
              "Low Fat    5089\n",
              "Regular    2889\n",
              "LF          316\n",
              "reg         117\n",
              "low fat     112\n",
              "Name: Item_Fat_Content, dtype: int64"
            ]
          },
          "metadata": {},
          "execution_count": 90
        }
      ]
    },
    {
      "cell_type": "code",
      "source": [
        "# replace inconsistent values\n",
        "df.replace(['LF','low fat'], ['Low Fat', 'Low Fat'], inplace = True)\n",
        "df.replace(['reg'], ['Regular'], inplace = True)"
      ],
      "metadata": {
        "id": "bSh13cdGnBVX"
      },
      "execution_count": 91,
      "outputs": []
    },
    {
      "cell_type": "code",
      "source": [
        "# check after replacing for consistent values\n",
        "df['Item_Fat_Content'].value_counts()"
      ],
      "metadata": {
        "colab": {
          "base_uri": "https://localhost:8080/"
        },
        "id": "shFTd5QunxIh",
        "outputId": "82c7a995-1996-474b-b0a6-46819fec2e39"
      },
      "execution_count": 92,
      "outputs": [
        {
          "output_type": "execute_result",
          "data": {
            "text/plain": [
              "Low Fat    5517\n",
              "Regular    3006\n",
              "Name: Item_Fat_Content, dtype: int64"
            ]
          },
          "metadata": {},
          "execution_count": 92
        }
      ]
    },
    {
      "cell_type": "code",
      "source": [
        "# values for item type\n",
        "df['Item_Type'].value_counts()"
      ],
      "metadata": {
        "colab": {
          "base_uri": "https://localhost:8080/"
        },
        "id": "WgXROwS_n3cT",
        "outputId": "5e5a25ed-b98b-4066-9225-1c478660893e"
      },
      "execution_count": 93,
      "outputs": [
        {
          "output_type": "execute_result",
          "data": {
            "text/plain": [
              "Fruits and Vegetables    1232\n",
              "Snack Foods              1200\n",
              "Household                 910\n",
              "Frozen Foods              856\n",
              "Dairy                     682\n",
              "Canned                    649\n",
              "Baking Goods              648\n",
              "Health and Hygiene        520\n",
              "Soft Drinks               445\n",
              "Meat                      425\n",
              "Breads                    251\n",
              "Hard Drinks               214\n",
              "Others                    169\n",
              "Starchy Foods             148\n",
              "Breakfast                 110\n",
              "Seafood                    64\n",
              "Name: Item_Type, dtype: int64"
            ]
          },
          "metadata": {},
          "execution_count": 93
        }
      ]
    },
    {
      "cell_type": "code",
      "source": [
        "#  values for outlet size\n",
        "df['Outlet_Size'].value_counts()"
      ],
      "metadata": {
        "colab": {
          "base_uri": "https://localhost:8080/"
        },
        "id": "Y0K2r1jGoG7e",
        "outputId": "7d09ef51-28ab-4af1-a906-e337082c0756"
      },
      "execution_count": 94,
      "outputs": [
        {
          "output_type": "execute_result",
          "data": {
            "text/plain": [
              "Medium    5203\n",
              "Small     2388\n",
              "High       932\n",
              "Name: Outlet_Size, dtype: int64"
            ]
          },
          "metadata": {},
          "execution_count": 94
        }
      ]
    },
    {
      "cell_type": "code",
      "source": [
        "# values for outlet location type\n",
        "df['Outlet_Location_Type'].value_counts()"
      ],
      "metadata": {
        "colab": {
          "base_uri": "https://localhost:8080/"
        },
        "id": "n9yT68r5oMqt",
        "outputId": "aad62a6a-dfcd-4540-d79f-4fa52ac17883"
      },
      "execution_count": 95,
      "outputs": [
        {
          "output_type": "execute_result",
          "data": {
            "text/plain": [
              "Tier 3    3350\n",
              "Tier 2    2785\n",
              "Tier 1    2388\n",
              "Name: Outlet_Location_Type, dtype: int64"
            ]
          },
          "metadata": {},
          "execution_count": 95
        }
      ]
    },
    {
      "cell_type": "markdown",
      "source": [
        "## 8 ) For any numerical columns, obtain the summary statistics of each (min, max, mean)."
      ],
      "metadata": {
        "id": "mX8-gRv4qGsB"
      }
    },
    {
      "cell_type": "code",
      "source": [
        "# summary statistics for numerical values\n",
        "df.describe().round(2)"
      ],
      "metadata": {
        "colab": {
          "base_uri": "https://localhost:8080/",
          "height": 300
        },
        "id": "RaF6fq6rqdxs",
        "outputId": "36905148-0005-48a4-8a6f-2696b5b8dc3f"
      },
      "execution_count": 96,
      "outputs": [
        {
          "output_type": "execute_result",
          "data": {
            "text/plain": [
              "       Item_Weight  Item_Visibility  Item_MRP  Item_Outlet_Sales\n",
              "count      8523.00          8523.00   8523.00            8523.00\n",
              "mean         12.86             0.07    140.99            2181.29\n",
              "std           4.23             0.05     62.28            1706.50\n",
              "min           4.56             0.00     31.29              33.29\n",
              "25%           9.31             0.03     93.83             834.25\n",
              "50%          12.86             0.05    143.01            1794.33\n",
              "75%          16.00             0.09    185.64            3101.30\n",
              "max          21.35             0.33    266.89           13086.96"
            ],
            "text/html": [
              "\n",
              "  <div id=\"df-b0e3115b-0d81-4233-a902-19cf1f36ddc6\">\n",
              "    <div class=\"colab-df-container\">\n",
              "      <div>\n",
              "<style scoped>\n",
              "    .dataframe tbody tr th:only-of-type {\n",
              "        vertical-align: middle;\n",
              "    }\n",
              "\n",
              "    .dataframe tbody tr th {\n",
              "        vertical-align: top;\n",
              "    }\n",
              "\n",
              "    .dataframe thead th {\n",
              "        text-align: right;\n",
              "    }\n",
              "</style>\n",
              "<table border=\"1\" class=\"dataframe\">\n",
              "  <thead>\n",
              "    <tr style=\"text-align: right;\">\n",
              "      <th></th>\n",
              "      <th>Item_Weight</th>\n",
              "      <th>Item_Visibility</th>\n",
              "      <th>Item_MRP</th>\n",
              "      <th>Item_Outlet_Sales</th>\n",
              "    </tr>\n",
              "  </thead>\n",
              "  <tbody>\n",
              "    <tr>\n",
              "      <th>count</th>\n",
              "      <td>8523.00</td>\n",
              "      <td>8523.00</td>\n",
              "      <td>8523.00</td>\n",
              "      <td>8523.00</td>\n",
              "    </tr>\n",
              "    <tr>\n",
              "      <th>mean</th>\n",
              "      <td>12.86</td>\n",
              "      <td>0.07</td>\n",
              "      <td>140.99</td>\n",
              "      <td>2181.29</td>\n",
              "    </tr>\n",
              "    <tr>\n",
              "      <th>std</th>\n",
              "      <td>4.23</td>\n",
              "      <td>0.05</td>\n",
              "      <td>62.28</td>\n",
              "      <td>1706.50</td>\n",
              "    </tr>\n",
              "    <tr>\n",
              "      <th>min</th>\n",
              "      <td>4.56</td>\n",
              "      <td>0.00</td>\n",
              "      <td>31.29</td>\n",
              "      <td>33.29</td>\n",
              "    </tr>\n",
              "    <tr>\n",
              "      <th>25%</th>\n",
              "      <td>9.31</td>\n",
              "      <td>0.03</td>\n",
              "      <td>93.83</td>\n",
              "      <td>834.25</td>\n",
              "    </tr>\n",
              "    <tr>\n",
              "      <th>50%</th>\n",
              "      <td>12.86</td>\n",
              "      <td>0.05</td>\n",
              "      <td>143.01</td>\n",
              "      <td>1794.33</td>\n",
              "    </tr>\n",
              "    <tr>\n",
              "      <th>75%</th>\n",
              "      <td>16.00</td>\n",
              "      <td>0.09</td>\n",
              "      <td>185.64</td>\n",
              "      <td>3101.30</td>\n",
              "    </tr>\n",
              "    <tr>\n",
              "      <th>max</th>\n",
              "      <td>21.35</td>\n",
              "      <td>0.33</td>\n",
              "      <td>266.89</td>\n",
              "      <td>13086.96</td>\n",
              "    </tr>\n",
              "  </tbody>\n",
              "</table>\n",
              "</div>\n",
              "      <button class=\"colab-df-convert\" onclick=\"convertToInteractive('df-b0e3115b-0d81-4233-a902-19cf1f36ddc6')\"\n",
              "              title=\"Convert this dataframe to an interactive table.\"\n",
              "              style=\"display:none;\">\n",
              "        \n",
              "  <svg xmlns=\"http://www.w3.org/2000/svg\" height=\"24px\"viewBox=\"0 0 24 24\"\n",
              "       width=\"24px\">\n",
              "    <path d=\"M0 0h24v24H0V0z\" fill=\"none\"/>\n",
              "    <path d=\"M18.56 5.44l.94 2.06.94-2.06 2.06-.94-2.06-.94-.94-2.06-.94 2.06-2.06.94zm-11 1L8.5 8.5l.94-2.06 2.06-.94-2.06-.94L8.5 2.5l-.94 2.06-2.06.94zm10 10l.94 2.06.94-2.06 2.06-.94-2.06-.94-.94-2.06-.94 2.06-2.06.94z\"/><path d=\"M17.41 7.96l-1.37-1.37c-.4-.4-.92-.59-1.43-.59-.52 0-1.04.2-1.43.59L10.3 9.45l-7.72 7.72c-.78.78-.78 2.05 0 2.83L4 21.41c.39.39.9.59 1.41.59.51 0 1.02-.2 1.41-.59l7.78-7.78 2.81-2.81c.8-.78.8-2.07 0-2.86zM5.41 20L4 18.59l7.72-7.72 1.47 1.35L5.41 20z\"/>\n",
              "  </svg>\n",
              "      </button>\n",
              "      \n",
              "  <style>\n",
              "    .colab-df-container {\n",
              "      display:flex;\n",
              "      flex-wrap:wrap;\n",
              "      gap: 12px;\n",
              "    }\n",
              "\n",
              "    .colab-df-convert {\n",
              "      background-color: #E8F0FE;\n",
              "      border: none;\n",
              "      border-radius: 50%;\n",
              "      cursor: pointer;\n",
              "      display: none;\n",
              "      fill: #1967D2;\n",
              "      height: 32px;\n",
              "      padding: 0 0 0 0;\n",
              "      width: 32px;\n",
              "    }\n",
              "\n",
              "    .colab-df-convert:hover {\n",
              "      background-color: #E2EBFA;\n",
              "      box-shadow: 0px 1px 2px rgba(60, 64, 67, 0.3), 0px 1px 3px 1px rgba(60, 64, 67, 0.15);\n",
              "      fill: #174EA6;\n",
              "    }\n",
              "\n",
              "    [theme=dark] .colab-df-convert {\n",
              "      background-color: #3B4455;\n",
              "      fill: #D2E3FC;\n",
              "    }\n",
              "\n",
              "    [theme=dark] .colab-df-convert:hover {\n",
              "      background-color: #434B5C;\n",
              "      box-shadow: 0px 1px 3px 1px rgba(0, 0, 0, 0.15);\n",
              "      filter: drop-shadow(0px 1px 2px rgba(0, 0, 0, 0.3));\n",
              "      fill: #FFFFFF;\n",
              "    }\n",
              "  </style>\n",
              "\n",
              "      <script>\n",
              "        const buttonEl =\n",
              "          document.querySelector('#df-b0e3115b-0d81-4233-a902-19cf1f36ddc6 button.colab-df-convert');\n",
              "        buttonEl.style.display =\n",
              "          google.colab.kernel.accessAllowed ? 'block' : 'none';\n",
              "\n",
              "        async function convertToInteractive(key) {\n",
              "          const element = document.querySelector('#df-b0e3115b-0d81-4233-a902-19cf1f36ddc6');\n",
              "          const dataTable =\n",
              "            await google.colab.kernel.invokeFunction('convertToInteractive',\n",
              "                                                     [key], {});\n",
              "          if (!dataTable) return;\n",
              "\n",
              "          const docLinkHtml = 'Like what you see? Visit the ' +\n",
              "            '<a target=\"_blank\" href=https://colab.research.google.com/notebooks/data_table.ipynb>data table notebook</a>'\n",
              "            + ' to learn more about interactive tables.';\n",
              "          element.innerHTML = '';\n",
              "          dataTable['output_type'] = 'display_data';\n",
              "          await google.colab.output.renderOutput(dataTable, element);\n",
              "          const docLink = document.createElement('div');\n",
              "          docLink.innerHTML = docLinkHtml;\n",
              "          element.appendChild(docLink);\n",
              "        }\n",
              "      </script>\n",
              "    </div>\n",
              "  </div>\n",
              "  "
            ]
          },
          "metadata": {},
          "execution_count": 96
        }
      ]
    },
    {
      "cell_type": "code",
      "source": [
        "# another way to show min, max, & mean\n",
        "summary_stats = df.describe()\n",
        "summary_stats.loc[['min','max','mean']]"
      ],
      "metadata": {
        "colab": {
          "base_uri": "https://localhost:8080/",
          "height": 143
        },
        "id": "-8k9zD8irhMB",
        "outputId": "c0b41bd2-0b0b-4cf0-d9b8-3f291c20ea93"
      },
      "execution_count": 97,
      "outputs": [
        {
          "output_type": "execute_result",
          "data": {
            "text/plain": [
              "      Item_Weight  Item_Visibility    Item_MRP  Item_Outlet_Sales\n",
              "min      4.555000         0.000000   31.290000          33.290000\n",
              "max     21.350000         0.328391  266.888400       13086.964800\n",
              "mean    12.857645         0.066132  140.992782        2181.288914"
            ],
            "text/html": [
              "\n",
              "  <div id=\"df-c43cfc04-762c-4ee7-94c8-3879c42f364e\">\n",
              "    <div class=\"colab-df-container\">\n",
              "      <div>\n",
              "<style scoped>\n",
              "    .dataframe tbody tr th:only-of-type {\n",
              "        vertical-align: middle;\n",
              "    }\n",
              "\n",
              "    .dataframe tbody tr th {\n",
              "        vertical-align: top;\n",
              "    }\n",
              "\n",
              "    .dataframe thead th {\n",
              "        text-align: right;\n",
              "    }\n",
              "</style>\n",
              "<table border=\"1\" class=\"dataframe\">\n",
              "  <thead>\n",
              "    <tr style=\"text-align: right;\">\n",
              "      <th></th>\n",
              "      <th>Item_Weight</th>\n",
              "      <th>Item_Visibility</th>\n",
              "      <th>Item_MRP</th>\n",
              "      <th>Item_Outlet_Sales</th>\n",
              "    </tr>\n",
              "  </thead>\n",
              "  <tbody>\n",
              "    <tr>\n",
              "      <th>min</th>\n",
              "      <td>4.555000</td>\n",
              "      <td>0.000000</td>\n",
              "      <td>31.290000</td>\n",
              "      <td>33.290000</td>\n",
              "    </tr>\n",
              "    <tr>\n",
              "      <th>max</th>\n",
              "      <td>21.350000</td>\n",
              "      <td>0.328391</td>\n",
              "      <td>266.888400</td>\n",
              "      <td>13086.964800</td>\n",
              "    </tr>\n",
              "    <tr>\n",
              "      <th>mean</th>\n",
              "      <td>12.857645</td>\n",
              "      <td>0.066132</td>\n",
              "      <td>140.992782</td>\n",
              "      <td>2181.288914</td>\n",
              "    </tr>\n",
              "  </tbody>\n",
              "</table>\n",
              "</div>\n",
              "      <button class=\"colab-df-convert\" onclick=\"convertToInteractive('df-c43cfc04-762c-4ee7-94c8-3879c42f364e')\"\n",
              "              title=\"Convert this dataframe to an interactive table.\"\n",
              "              style=\"display:none;\">\n",
              "        \n",
              "  <svg xmlns=\"http://www.w3.org/2000/svg\" height=\"24px\"viewBox=\"0 0 24 24\"\n",
              "       width=\"24px\">\n",
              "    <path d=\"M0 0h24v24H0V0z\" fill=\"none\"/>\n",
              "    <path d=\"M18.56 5.44l.94 2.06.94-2.06 2.06-.94-2.06-.94-.94-2.06-.94 2.06-2.06.94zm-11 1L8.5 8.5l.94-2.06 2.06-.94-2.06-.94L8.5 2.5l-.94 2.06-2.06.94zm10 10l.94 2.06.94-2.06 2.06-.94-2.06-.94-.94-2.06-.94 2.06-2.06.94z\"/><path d=\"M17.41 7.96l-1.37-1.37c-.4-.4-.92-.59-1.43-.59-.52 0-1.04.2-1.43.59L10.3 9.45l-7.72 7.72c-.78.78-.78 2.05 0 2.83L4 21.41c.39.39.9.59 1.41.59.51 0 1.02-.2 1.41-.59l7.78-7.78 2.81-2.81c.8-.78.8-2.07 0-2.86zM5.41 20L4 18.59l7.72-7.72 1.47 1.35L5.41 20z\"/>\n",
              "  </svg>\n",
              "      </button>\n",
              "      \n",
              "  <style>\n",
              "    .colab-df-container {\n",
              "      display:flex;\n",
              "      flex-wrap:wrap;\n",
              "      gap: 12px;\n",
              "    }\n",
              "\n",
              "    .colab-df-convert {\n",
              "      background-color: #E8F0FE;\n",
              "      border: none;\n",
              "      border-radius: 50%;\n",
              "      cursor: pointer;\n",
              "      display: none;\n",
              "      fill: #1967D2;\n",
              "      height: 32px;\n",
              "      padding: 0 0 0 0;\n",
              "      width: 32px;\n",
              "    }\n",
              "\n",
              "    .colab-df-convert:hover {\n",
              "      background-color: #E2EBFA;\n",
              "      box-shadow: 0px 1px 2px rgba(60, 64, 67, 0.3), 0px 1px 3px 1px rgba(60, 64, 67, 0.15);\n",
              "      fill: #174EA6;\n",
              "    }\n",
              "\n",
              "    [theme=dark] .colab-df-convert {\n",
              "      background-color: #3B4455;\n",
              "      fill: #D2E3FC;\n",
              "    }\n",
              "\n",
              "    [theme=dark] .colab-df-convert:hover {\n",
              "      background-color: #434B5C;\n",
              "      box-shadow: 0px 1px 3px 1px rgba(0, 0, 0, 0.15);\n",
              "      filter: drop-shadow(0px 1px 2px rgba(0, 0, 0, 0.3));\n",
              "      fill: #FFFFFF;\n",
              "    }\n",
              "  </style>\n",
              "\n",
              "      <script>\n",
              "        const buttonEl =\n",
              "          document.querySelector('#df-c43cfc04-762c-4ee7-94c8-3879c42f364e button.colab-df-convert');\n",
              "        buttonEl.style.display =\n",
              "          google.colab.kernel.accessAllowed ? 'block' : 'none';\n",
              "\n",
              "        async function convertToInteractive(key) {\n",
              "          const element = document.querySelector('#df-c43cfc04-762c-4ee7-94c8-3879c42f364e');\n",
              "          const dataTable =\n",
              "            await google.colab.kernel.invokeFunction('convertToInteractive',\n",
              "                                                     [key], {});\n",
              "          if (!dataTable) return;\n",
              "\n",
              "          const docLinkHtml = 'Like what you see? Visit the ' +\n",
              "            '<a target=\"_blank\" href=https://colab.research.google.com/notebooks/data_table.ipynb>data table notebook</a>'\n",
              "            + ' to learn more about interactive tables.';\n",
              "          element.innerHTML = '';\n",
              "          dataTable['output_type'] = 'display_data';\n",
              "          await google.colab.output.renderOutput(dataTable, element);\n",
              "          const docLink = document.createElement('div');\n",
              "          docLink.innerHTML = docLinkHtml;\n",
              "          element.appendChild(docLink);\n",
              "        }\n",
              "      </script>\n",
              "    </div>\n",
              "  </div>\n",
              "  "
            ]
          },
          "metadata": {},
          "execution_count": 97
        }
      ]
    },
    {
      "cell_type": "markdown",
      "source": [
        "## Exploratory Visuals"
      ],
      "metadata": {
        "id": "ZkWD6DkgPKAi"
      }
    },
    {
      "cell_type": "code",
      "source": [],
      "metadata": {
        "id": "ldAuo2CEPVeD"
      },
      "execution_count": 97,
      "outputs": []
    },
    {
      "cell_type": "markdown",
      "source": [
        "## Explanatory Visuals"
      ],
      "metadata": {
        "id": "KGSdVMkaPWFC"
      }
    },
    {
      "cell_type": "code",
      "source": [],
      "metadata": {
        "id": "OjwIIFlwPb31"
      },
      "execution_count": 97,
      "outputs": []
    }
  ]
}